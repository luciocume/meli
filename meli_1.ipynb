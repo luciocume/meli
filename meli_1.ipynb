{
    "metadata": {
        "kernelspec": {
            "name": "python3",
            "display_name": "Python 3",
            "language": "python"
        },
        "language_info": {
            "name": "python",
            "version": "3.8.3",
            "mimetype": "text/x-python",
            "codemirror_mode": {
                "name": "ipython",
                "version": 3
            },
            "pygments_lexer": "ipython3",
            "nbconvert_exporter": "python",
            "file_extension": ".py"
        }
    },
    "nbformat_minor": 2,
    "nbformat": 4,
    "cells": [
        {
            "cell_type": "markdown",
            "source": [
                "**En este analisis se tomarán los datos de la búsqueda bicileta, el mismo intentará analizar si se puede encontar la mejor performance en relacion precio, calidad, producto y servicio.**"
            ],
            "metadata": {
                "azdata_cell_guid": "3c3f0637-d9a6-4296-867f-d225487e28e0"
            }
        },
        {
            "cell_type": "code",
            "source": [
                "# Importamos los datos y los convertimos a un DataFrame.\n",
                "\n",
                "import requests\n",
                "import json\n",
                "\n",
                "import pandas as pd\n",
                "pd.options.display.max_rows = None\n",
                "pd.options.display.max_columns = None\n",
                "\n",
                "if __name__ == '__main__':\n",
                "    url = 'https://api.mercadolibre.com/sites/MLA/search?q=Bicileta'\n",
                "    response =requests.get(url)\n",
                "    \n",
                "    if response.status_code == 200:\n",
                "        content = response.content\n",
                "        data = json.loads(content)\n",
                "        dato = pd.json_normalize(data['results'])\n",
                "        df = pd.DataFrame(dato)\n",
                "        print(df.head(5))"
            ],
            "metadata": {
                "azdata_cell_guid": "6f7da7f1-19fa-4c4a-994b-6ac9de08838f",
                "tags": []
            },
            "outputs": [],
            "execution_count": null
        },
        {
            "cell_type": "markdown",
            "source": [
                "Revisamos el DataFrame y observamos el porcentaje de valores faltantes que tenemos"
            ],
            "metadata": {
                "azdata_cell_guid": "079f107d-1818-4445-b42c-6603f88b8676"
            }
        },
        {
            "cell_type": "code",
            "source": [
                "# lista de las variables que contienen valores perdidos\n",
                "vars_with_na = [var for var in df.columns if df[var].isnull().sum() > 0]\n",
                "\n",
                "# determinar el porcentaje de valores perdidos\n",
                "df[vars_with_na].isnull().mean()\n",
                ""
            ],
            "metadata": {
                "azdata_cell_guid": "9ecd604f-79f9-408d-a8dc-66d67e09a4c3"
            },
            "outputs": [],
            "execution_count": null
        },
        {
            "cell_type": "markdown",
            "source": [
                "**Suelto las columnas que tienen un porcentaje mayor a  0.40 de valores faltantes**"
            ],
            "metadata": {
                "azdata_cell_guid": "8b663a70-0f6d-45b6-8f5d-6ffc157b43d2"
            }
        },
        {
            "cell_type": "code",
            "source": [
                "df = df.drop(['sale_price', 'official_store_id', 'catalog_product_id', \n",
                "              'seller.eshop.eshop_rubro', 'address.city_id', 'seller_address.city.id',\n",
                "               'differential_pricing.id'], axis=1)\n",
                "\n",
                "df.head()\n",
                ""
            ],
            "metadata": {
                "azdata_cell_guid": "2d74384a-839a-431b-bb41-598b9201b063"
            },
            "outputs": [],
            "execution_count": null
        },
        {
            "cell_type": "markdown",
            "source": [
                "**Reviso las columnas que cuentas con valores categoricos**"
            ],
            "metadata": {
                "azdata_cell_guid": "6f272ba0-f9bf-4a71-8f4b-63570700b35a"
            }
        },
        {
            "cell_type": "code",
            "source": [
                "# Inserto en una lista los valores categoricos\n",
                "cat_vars = [var for var in df.columns if df[var].dtypes == 'O']\n",
                "\n",
                "print('Cantidad de variables categoricas: ', len(cat_vars))\n",
                "\n",
                "# Visualizo los valores categoricos\n",
                "df[cat_vars].head()\n",
                ""
            ],
            "metadata": {
                "azdata_cell_guid": "029efb75-4135-4912-aff9-96a26b9750b2",
                "tags": []
            },
            "outputs": [],
            "execution_count": null
        },
        {
            "cell_type": "markdown",
            "source": [
                "**Remplazo valores faltantes con 0**"
            ],
            "metadata": {
                "azdata_cell_guid": "85c4034b-8a18-4b60-ad91-3a126164685c"
            }
        },
        {
            "cell_type": "code",
            "source": [
                "df = df.apply(lambda serie: serie.fillna(0), axis=0)\n",
                ""
            ],
            "metadata": {
                "azdata_cell_guid": "c68bdc3d-2d05-4ccd-946d-f7dcf3e6e2bf"
            },
            "outputs": [],
            "execution_count": null
        },
        {
            "cell_type": "markdown",
            "source": [
                "**Revisamos en una tabla de contingencia la relación que se encuentra entre price/original\\_price. Podemos observar que precios ofrecen descuento en sus publicaciones**"
            ],
            "metadata": {
                "azdata_cell_guid": "4f5fa9a2-d17d-4d6e-b5ad-1d58ddba6630"
            }
        },
        {
            "cell_type": "code",
            "source": [
                "pd.crosstab(index=df['price'],\n",
                "            columns=df['original_price'], margins=True)"
            ],
            "metadata": {
                "azdata_cell_guid": "d16e9787-a47e-4caf-8f70-cf4f79bcbc80"
            },
            "outputs": [],
            "execution_count": null
        },
        {
            "cell_type": "markdown",
            "source": [
                "**Ahora observamos un gráfico de barras de frecuencia relativa entre price y original\\_price.**"
            ],
            "metadata": {
                "azdata_cell_guid": "4406c821-844a-4d18-bed6-177387a4b98f"
            }
        },
        {
            "cell_type": "code",
            "source": [
                "from matplotlib import pyplot as plt\n",
                "plt.figure(figsize=(16,8))\n",
                "\n",
                "plot = (100 * df['price'].value_counts() / len(df['original_price'])).plot(\n",
                "kind='bar', title='Grafico frecuencia relativa')"
            ],
            "metadata": {
                "azdata_cell_guid": "b6abb299-66f3-48f6-882c-df9488cb6224"
            },
            "outputs": [],
            "execution_count": null
        },
        {
            "cell_type": "markdown",
            "source": [
                "**Graficamos la distribución de los vendedores para poder identificar si existe mayor incidencia de un lugar a otro,**\n",
                "\n",
                "**podemos observar que el mayor porcentaje de vendedores se encuentra en CABA seguido por provincia de Buenos Aires.**"
            ],
            "metadata": {
                "azdata_cell_guid": "dc7d3869-aa0f-43f3-adeb-99a19208799a"
            }
        },
        {
            "cell_type": "code",
            "source": [
                "plot = df['seller_address.city.name'].value_counts().plot(kind='pie', autopct='%.2f', \n",
                "                                            figsize=(11, 11),\n",
                "                                            title='original_price distribucion')"
            ],
            "metadata": {
                "azdata_cell_guid": "ceaec381-47e5-485c-98f8-45a8d1d0ac94"
            },
            "outputs": [],
            "execution_count": null
        },
        {
            "cell_type": "markdown",
            "source": [
                "**Ahora graficamos la relacion entre ubicación y tipo de usuario (listing\\_type\\_i). Podemos observar que todos los usuarios gold\\_pro se distribuyen practicamente todos entre CABA y lomas de zamora (gran Buenos  aires),  mientras que los usuarios gold\\_special se distribuyen tanto en CABA y gran** **Buenos aires.**"
            ],
            "metadata": {
                "azdata_cell_guid": "969d25e5-542c-4773-87d6-e26bb8acdcff"
            }
        },
        {
            "cell_type": "code",
            "source": [
                "# Gráfico de barras de original_price según ciudad de vendedor\n",
                "# Podemos ver que los usuarios gold_pro se concentran en CABA mientras que los vendedores de gold_special\n",
                "# se distirbuyen entre Buenos Aires y Gran Buenos Aires.\n",
                "\n",
                "plot = pd.crosstab(index=df['seller_address.city.name'], \n",
                "            columns=df['listing_type_id']).apply(lambda r: r/r.sum() *100,\n",
                "                                              axis=1).plot(kind='bar', figsize=(11, 11))"
            ],
            "metadata": {
                "azdata_cell_guid": "bd6039f5-0268-4bc2-8266-5a64d4890697"
            },
            "outputs": [],
            "execution_count": null
        },
        {
            "cell_type": "markdown",
            "source": [
                "**Analizamos y graficamos si existe una relacion según la clase de vendedor y tipo de usuario (listing\\_type\\_id).Podemos ver que los usuarios**\n",
                "\n",
                "**gold\\_pro tienen preponderancia absoluta en la relacion price/original\\_price lo que puede traducirse en que comercializan con las bicicletas**\n",
                "\n",
                "**de mayor valor mientras que los usuarios gold\\_special tienen preponderancia en la relacion price/original\\_price de gama baja y media.**"
            ],
            "metadata": {
                "azdata_cell_guid": "24f46e41-416c-4447-955c-1c418008b2ac"
            }
        },
        {
            "cell_type": "code",
            "source": [
                "plot = pd.crosstab(index=df['original_price'], \n",
                "            columns=df['listing_type_id']).apply(lambda r: r/r.sum() *100,\n",
                "                                              axis=1).plot(kind='bar', figsize=(11, 11),)"
            ],
            "metadata": {
                "azdata_cell_guid": "21934737-ce6c-494b-a1b2-4c176e0f8c13"
            },
            "outputs": [],
            "execution_count": null
        },
        {
            "cell_type": "markdown",
            "source": [
                "**Ahora intentaremos  determinar si existe una relación entre la cantidad de ventas según su original\\_price. Podemos observar que el mayor volumen se centra en bicicletas sin original\\_price, mientras que la distribución de los productos que si poseen original\\_price podemos identificarlos mayormente en productos de valor medio.**"
            ],
            "metadata": {
                "azdata_cell_guid": "9156e000-7689-4e22-b122-ef64e14c9c05"
            }
        },
        {
            "cell_type": "code",
            "source": [
                "plot = pd.crosstab(index=df['original_price'],\n",
                "            columns=df['available_quantity']\n",
                "                  ).apply(lambda r: r/r.sum() *100,\n",
                "                          axis=0).plot(kind='bar', stacked=True, figsize=(11, 11))"
            ],
            "metadata": {
                "azdata_cell_guid": "490c47fa-1b07-4845-b310-7d2e0e863f5f",
                "tags": []
            },
            "outputs": [],
            "execution_count": null
        },
        {
            "cell_type": "markdown",
            "source": [
                "**Ahora veremos la relación entre el tipo de producto y su original\\_price, podemos observar que la oferta en la bicicleta Nordic X 3.0 R29 es la única que destaca por una mayor oferta.**"
            ],
            "metadata": {
                "azdata_cell_guid": "1a3d4c5d-73c4-45f0-86bc-a0884e067d2a"
            }
        },
        {
            "cell_type": "code",
            "source": [
                "# Gráfico de barras de sobreviviviente segun clase\n",
                "plot = pd.crosstab(index=df['title'], \n",
                "            columns=df['original_price']\n",
                "                  ).apply(lambda r: r/r.sum() *100,\n",
                "                          axis=0).plot(kind='bar', stacked=True, figsize=(15, 12))\n",
                "\n",
                ""
            ],
            "metadata": {
                "azdata_cell_guid": "39f2e0d6-3c04-4d57-b855-0d84f0f5546c"
            },
            "outputs": [],
            "execution_count": null
        },
        {
            "cell_type": "markdown",
            "source": [
                "**Ahora exploraremos que porcentaje de descuento tiene mayor incidencia en las ventas,  podemos observar como los valores del 35% y %50 toman notoria relevancia en comparación al resto.**"
            ],
            "metadata": {
                "azdata_cell_guid": "489474d6-80e1-4906-a585-d64e8c21f764"
            }
        },
        {
            "cell_type": "code",
            "source": [
                "df['descuento'] = ((df['price'] - df['original_price']) *100)/df['price']\n",
                "df = df.round(0)\n",
                "\n",
                "df = df.sort_values(by=['descuento'], ascending=False)\n",
                "\n",
                "pd.crosstab(index=df['sold_quantity'],\n",
                "            columns=df['descuento'], margins=True)\n",
                "\n",
                ""
            ],
            "metadata": {
                "azdata_cell_guid": "fcf56f36-6099-4863-a6a0-719a01f8c3fc"
            },
            "outputs": [],
            "execution_count": null
        },
        {
            "cell_type": "markdown",
            "source": [
                "**Conclusión:**\n",
                "\n",
                "**Podemos identificar a dos grupos de vendedores que predominan según su original\\_price, siendo que el grupo A se focaliza en una relación precio/calidad alta (gama alta) mientras que el grupo B se centra en la relacón cantidad/precio optimo. En todos los casos el env{i es gratuito. Notamos que la ubicación que pondera es CABA siendo el mayor lugar en la oferta de original\\_price, mientras que el producto más comercializado es la** **bicicleta Nordic X 3.0 R29 y los valores en los cuales original price parece ser mas efectivo son 35% (6 unidades) y 50% (7 unidades).**"
            ],
            "metadata": {
                "azdata_cell_guid": "af862c5c-0d9e-450e-a97a-c331578671e4"
            }
        }
    ]
}